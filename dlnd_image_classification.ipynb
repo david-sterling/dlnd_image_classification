{
 "cells": [
  {
   "cell_type": "markdown",
   "metadata": {
    "collapsed": true
   },
   "source": [
    "# Image Classification\n",
    "In this project, you'll classify images from the [CIFAR-10 dataset](https://www.cs.toronto.edu/~kriz/cifar.html).  The dataset consists of airplanes, dogs, cats, and other objects. You'll preprocess the images, then train a convolutional neural network on all the samples. The images need to be normalized and the labels need to be one-hot encoded.  You'll get to apply what you learned and build a convolutional, max pooling, dropout, and fully connected layers.  At the end, you'll get to see your neural network's predictions on the sample images.\n",
    "## Get the Data\n",
    "Run the following cell to download the [CIFAR-10 dataset for python](https://www.cs.toronto.edu/~kriz/cifar-10-python.tar.gz)."
   ]
  },
  {
   "cell_type": "code",
   "execution_count": 1,
   "metadata": {},
   "outputs": [
    {
     "name": "stdout",
     "output_type": "stream",
     "text": [
      "All files found!\n"
     ]
    }
   ],
   "source": [
    "\"\"\"\n",
    "DON'T MODIFY ANYTHING IN THIS CELL THAT IS BELOW THIS LINE\n",
    "\"\"\"\n",
    "from urllib.request import urlretrieve\n",
    "from os.path import isfile, isdir\n",
    "from tqdm import tqdm\n",
    "import problem_unittests as tests\n",
    "import tarfile\n",
    "\n",
    "cifar10_dataset_folder_path = 'cifar-10-batches-py'\n",
    "\n",
    "# Use Floyd's cifar-10 dataset if present\n",
    "floyd_cifar10_location = '/input/cifar-10/python.tar.gz'\n",
    "if isfile(floyd_cifar10_location):\n",
    "    tar_gz_path = floyd_cifar10_location\n",
    "else:\n",
    "    tar_gz_path = 'cifar-10-python.tar.gz'\n",
    "\n",
    "class DLProgress(tqdm):\n",
    "    last_block = 0\n",
    "\n",
    "    def hook(self, block_num=1, block_size=1, total_size=None):\n",
    "        self.total = total_size\n",
    "        self.update((block_num - self.last_block) * block_size)\n",
    "        self.last_block = block_num\n",
    "\n",
    "if not isfile(tar_gz_path):\n",
    "    with DLProgress(unit='B', unit_scale=True, miniters=1, desc='CIFAR-10 Dataset') as pbar:\n",
    "        urlretrieve(\n",
    "            'https://www.cs.toronto.edu/~kriz/cifar-10-python.tar.gz',\n",
    "            tar_gz_path,\n",
    "            pbar.hook)\n",
    "\n",
    "if not isdir(cifar10_dataset_folder_path):\n",
    "    with tarfile.open(tar_gz_path) as tar:\n",
    "        tar.extractall()\n",
    "        tar.close()\n",
    "\n",
    "\n",
    "tests.test_folder_path(cifar10_dataset_folder_path)"
   ]
  },
  {
   "cell_type": "markdown",
   "metadata": {},
   "source": [
    "## Explore the Data\n",
    "The dataset is broken into batches to prevent your machine from running out of memory.  The CIFAR-10 dataset consists of 5 batches, named `data_batch_1`, `data_batch_2`, etc.. Each batch contains the labels and images that are one of the following:\n",
    "* airplane\n",
    "* automobile\n",
    "* bird\n",
    "* cat\n",
    "* deer\n",
    "* dog\n",
    "* frog\n",
    "* horse\n",
    "* ship\n",
    "* truck\n",
    "\n",
    "Understanding a dataset is part of making predictions on the data.  Play around with the code cell below by changing the `batch_id` and `sample_id`. The `batch_id` is the id for a batch (1-5). The `sample_id` is the id for a image and label pair in the batch.\n",
    "\n",
    "Ask yourself \"What are all possible labels?\", \"What is the range of values for the image data?\", \"Are the labels in order or random?\".  Answers to questions like these will help you preprocess the data and end up with better predictions."
   ]
  },
  {
   "cell_type": "code",
   "execution_count": 2,
   "metadata": {},
   "outputs": [
    {
     "name": "stdout",
     "output_type": "stream",
     "text": [
      "\n",
      "Stats of batch 1:\n",
      "Samples: 10000\n",
      "Label Counts: {0: 1005, 1: 974, 2: 1032, 3: 1016, 4: 999, 5: 937, 6: 1030, 7: 1001, 8: 1025, 9: 981}\n",
      "First 20 Labels: [6, 9, 9, 4, 1, 1, 2, 7, 8, 3, 4, 7, 7, 2, 9, 9, 9, 3, 2, 6]\n",
      "\n",
      "Example of Image 1000:\n",
      "Image - Min Value: 2 Max Value: 254\n",
      "Image - Shape: (32, 32, 3)\n",
      "Label - Label Id: 9 Name: truck\n"
     ]
    },
    {
     "data": {
      "image/png": "[encoded data removed]",
      "text/plain": [
       "<matplotlib.figure.Figure at 0x1ebc7a75630>"
      ]
     },
     "metadata": {
      "image/png": {
       "height": 250,
       "width": 253
      }
     },
     "output_type": "display_data"
    }
   ],
   "source": [
    "%matplotlib inline\n",
    "%config InlineBackend.figure_format = 'retina'\n",
    "\n",
    "import helper\n",
    "import numpy as np\n",
    "\n",
    "# Explore the dataset\n",
    "batch_id = 1\n",
    "sample_id = 1000\n",
    "helper.display_stats(cifar10_dataset_folder_path, batch_id, sample_id)"
   ]
  },
  {
   "cell_type": "markdown",
   "metadata": {},
   "source": [
    "## Implement Preprocess Functions\n",
    "### Normalize\n",
    "In the cell below, implement the `normalize` function to take in image data, `x`, and return it as a normalized Numpy array. The values should be in the range of 0 to 1, inclusive.  The return object should be the same shape as `x`."
   ]
  },
  {
   "cell_type": "code",
   "execution_count": 3,
   "metadata": {},
   "outputs": [
    {
     "name": "stdout",
     "output_type": "stream",
     "text": [
      "Tests Passed\n"
     ]
    }
   ],
   "source": [
    "from sklearn.preprocessing import normalize as sknormalize\n",
    "\n",
    "def normalize(x):\n",
    "    \"\"\"\n",
    "    Normalize a list of sample image data in the range of 0 to 1\n",
    "    : x: List of image data.  The image shape is (32, 32, 3)\n",
    "    : return: Numpy array of normalize data\n",
    "    :sklearn.preprocessing.normalize works with vectors not with lists, hence the easier method to code\n",
    "    :is just to divide x/max value. We can compute with np.max and np.min but since in this case CIFAR-10\n",
    "    :provides duly acotated data with pixel value between 0 and 255 we can just use element \n",
    "    :-wise division \n",
    "    \"\"\"\n",
    "    \n",
    "    return (x/255)\n",
    "\n",
    "\n",
    "\"\"\"\n",
    "DON'T MODIFY ANYTHING IN THIS CELL THAT IS BELOW THIS LINE\n",
    "\"\"\"\n",
    "tests.test_normalize(normalize)"
   ]
  },
  {
   "cell_type": "markdown",
   "metadata": {},
   "source": [
    "### One-hot encode\n",
    "Just like the previous code cell, you'll be implementing a function for preprocessing.  This time, you'll implement the `one_hot_encode` function. The input, `x`, are a list of labels.  Implement the function to return the list of labels as One-Hot encoded Numpy array.  The possible values for labels are 0 to 9. The one-hot encoding function should return the same encoding for each value between each call to `one_hot_encode`.  Make sure to save the map of encodings outside the function.\n",
    "\n",
    "Hint: Don't reinvent the wheel."
   ]
  },
  {
   "cell_type": "code",
   "execution_count": 20,
   "metadata": {},
   "outputs": [
    {
     "name": "stdout",
     "output_type": "stream",
     "text": [
      "Tests Passed\n"
     ]
    }
   ],
   "source": [
    "def one_hot_encode(x):\n",
    "    \"\"\"\n",
    "    One hot encode a list of sample labels. Return a one-hot encoded vector for each label.\n",
    "    : x: List of sample Labels\n",
    "    : return: Numpy array of one-hot encoded labels\n",
    "    \"\"\"\n",
    "    # NP eye function numpy.eye(N, M=None, k=0, dtype=<type 'float'>)\n",
    "    return np.eye(10)[x]\n",
    "\n",
    "\n",
    "\"\"\"\n",
    "DON'T MODIFY ANYTHING IN THIS CELL THAT IS BELOW THIS LINE\n",
    "\"\"\"\n",
    "tests.test_one_hot_encode(one_hot_encode)"
   ]
  },
  {
   "cell_type": "markdown",
   "metadata": {},
   "source": [
    "### Randomize Data\n",
    "As you saw from exploring the data above, the order of the samples are randomized.  It doesn't hurt to randomize it again, but you don't need to for this dataset."
   ]
  },
  {
   "cell_type": "markdown",
   "metadata": {},
   "source": [
    "## Preprocess all the data and save it\n",
    "Running the code cell below will preprocess all the CIFAR-10 data and save it to file. The code below also uses 10% of the training data for validation."
   ]
  },
  {
   "cell_type": "code",
   "execution_count": 5,
   "metadata": {
    "collapsed": true
   },
   "outputs": [],
   "source": [
    "\"\"\"\n",
    "DON'T MODIFY ANYTHING IN THIS CELL\n",
    "\"\"\"\n",
    "# Preprocess Training, Validation, and Testing Data\n",
    "helper.preprocess_and_save_data(cifar10_dataset_folder_path, normalize, one_hot_encode)"
   ]
  },
  {
   "cell_type": "markdown",
   "metadata": {},
   "source": [
    "# Check Point\n",
    "This is your first checkpoint.  If you ever decide to come back to this notebook or have to restart the notebook, you can start from here.  The preprocessed data has been saved to disk."
   ]
  },
  {
   "cell_type": "code",
   "execution_count": 6,
   "metadata": {
    "collapsed": true
   },
   "outputs": [],
   "source": [
    "\"\"\"\n",
    "DON'T MODIFY ANYTHING IN THIS CELL\n",
    "\"\"\"\n",
    "import pickle\n",
    "import problem_unittests as tests\n",
    "import helper\n",
    "\n",
    "# Load the Preprocessed Validation data\n",
    "valid_features, valid_labels = pickle.load(open('preprocess_validation.p', mode='rb'))"
   ]
  },
  {
   "cell_type": "markdown",
   "metadata": {},
   "source": [
    "## Build the network\n",
    "For the neural network, you'll build each layer into a function.  Most of the code you've seen has been outside of functions. To test your code more thoroughly, we require that you put each layer in a function.  This allows us to give you better feedback and test for simple mistakes using our unittests before you submit your project.\n",
    "\n",
    ">**Note:** If you're finding it hard to dedicate enough time for this course each week, we've provided a small shortcut to this part of the project. In the next couple of problems, you'll have the option to use classes from the [TensorFlow Layers](https://www.tensorflow.org/api_docs/python/tf/layers) or [TensorFlow Layers (contrib)](https://www.tensorflow.org/api_guides/python/contrib.layers) packages to build each layer, except the layers you build in the \"Convolutional and Max Pooling Layer\" section.  TF Layers is similar to Keras's and TFLearn's abstraction to layers, so it's easy to pickup.\n",
    "\n",
    ">However, if you would like to get the most out of this course, try to solve all the problems _without_ using anything from the TF Layers packages. You **can** still use classes from other packages that happen to have the same name as ones you find in TF Layers! For example, instead of using the TF Layers version of the `conv2d` class, [tf.layers.conv2d](https://www.tensorflow.org/api_docs/python/tf/layers/conv2d), you would want to use the TF Neural Network version of `conv2d`, [tf.nn.conv2d](https://www.tensorflow.org/api_docs/python/tf/nn/conv2d). \n",
    "\n",
    "Let's begin!\n",
    "\n",
    "### Input\n",
    "The neural network needs to read the image data, one-hot encoded labels, and dropout keep probability. Implement the following functions\n",
    "* Implement `neural_net_image_input`\n",
    " * Return a [TF Placeholder](https://www.tensorflow.org/api_docs/python/tf/placeholder)\n",
    " * Set the shape using `image_shape` with batch size set to `None`.\n",
    " * Name the TensorFlow placeholder \"x\" using the TensorFlow `name` parameter in the [TF Placeholder](https://www.tensorflow.org/api_docs/python/tf/placeholder).\n",
    "* Implement `neural_net_label_input`\n",
    " * Return a [TF Placeholder](https://www.tensorflow.org/api_docs/python/tf/placeholder)\n",
    " * Set the shape using `n_classes` with batch size set to `None`.\n",
    " * Name the TensorFlow placeholder \"y\" using the TensorFlow `name` parameter in the [TF Placeholder](https://www.tensorflow.org/api_docs/python/tf/placeholder).\n",
    "* Implement `neural_net_keep_prob_input`\n",
    " * Return a [TF Placeholder](https://www.tensorflow.org/api_docs/python/tf/placeholder) for dropout keep probability.\n",
    " * Name the TensorFlow placeholder \"keep_prob\" using the TensorFlow `name` parameter in the [TF Placeholder](https://www.tensorflow.org/api_docs/python/tf/placeholder).\n",
    "\n",
    "These names will be used at the end of the project to load your saved model.\n",
    "\n",
    "Note: `None` for shapes in TensorFlow allow for a dynamic size."
   ]
  },
  {
   "cell_type": "code",
   "execution_count": 7,
   "metadata": {},
   "outputs": [
    {
     "name": "stdout",
     "output_type": "stream",
     "text": [
      "Image Input Tests Passed.\n",
      "Label Input Tests Passed.\n",
      "Keep Prob Tests Passed.\n"
     ]
    }
   ],
   "source": [
    "import tensorflow as tf\n",
    "\n",
    "def neural_net_image_input(image_shape):\n",
    "    \"\"\"\n",
    "    Return a Tensor for a batch of image input\n",
    "    : image_shape: Shape of the images\n",
    "    : return: Tensor for image input.\n",
    "    \"\"\"\n",
    "    \n",
    "    return tf.placeholder(tf.float32,shape= (None,*image_shape),name='x')\n",
    "\n",
    "\n",
    "def neural_net_label_input(n_classes):\n",
    "    \"\"\"\n",
    "    Return a Tensor for a batch of label input\n",
    "    : n_classes: Number of classes\n",
    "    : return: Tensor for label input.\n",
    "    \"\"\"\n",
    "    return tf.placeholder(tf.float32,shape= (None,n_classes),name='y')\n",
    "\n",
    "\n",
    "def neural_net_keep_prob_input():\n",
    "    \"\"\"\n",
    "    Return a Tensor for keep probability\n",
    "    : return: Tensor for keep probability.\n",
    "    \"\"\"\n",
    "    return tf.placeholder(tf.float32,name='keep_prob')\n",
    "\n",
    "\n",
    "\"\"\"\n",
    "DON'T MODIFY ANYTHING IN THIS CELL THAT IS BELOW THIS LINE\n",
    "\"\"\"\n",
    "tf.reset_default_graph()\n",
    "tests.test_nn_image_inputs(neural_net_image_input)\n",
    "tests.test_nn_label_inputs(neural_net_label_input)\n",
    "tests.test_nn_keep_prob_inputs(neural_net_keep_prob_input)"
   ]
  },
  {
   "cell_type": "markdown",
   "metadata": {},
   "source": [
    "### Convolution and Max Pooling Layer\n",
    "Convolution layers have a lot of success with images. For this code cell, you should implement the function `conv2d_maxpool` to apply convolution then max pooling:\n",
    "* Create the weight and bias using `conv_ksize`, `conv_num_outputs` and the shape of `x_tensor`.\n",
    "* Apply a convolution to `x_tensor` using weight and `conv_strides`.\n",
    " * We recommend you use same padding, but you're welcome to use any padding.\n",
    "* Add bias\n",
    "* Add a nonlinear activation to the convolution.\n",
    "* Apply Max Pooling using `pool_ksize` and `pool_strides`.\n",
    " * We recommend you use same padding, but you're welcome to use any padding.\n",
    "\n",
    "**Note:** You **can't** use [TensorFlow Layers](https://www.tensorflow.org/api_docs/python/tf/layers) or [TensorFlow Layers (contrib)](https://www.tensorflow.org/api_guides/python/contrib.layers) for **this** layer, but you can still use TensorFlow's [Neural Network](https://www.tensorflow.org/api_docs/python/tf/nn) package. You may still use the shortcut option for all the **other** layers."
   ]
  },
  {
   "cell_type": "code",
   "execution_count": 76,
   "metadata": {},
   "outputs": [
    {
     "name": "stdout",
     "output_type": "stream",
     "text": [
      "Tests Passed\n"
     ]
    }
   ],
   "source": [
    "def conv2d_maxpool(x_tensor, conv_num_outputs, conv_ksize, conv_strides, pool_ksize, pool_strides):\n",
    "    \"\"\"\n",
    "    Apply convolution then max pooling to x_tensor\n",
    "    :param x_tensor: TensorFlow Tensor\n",
    "    :param conv_num_outputs: Number of outputs for the convolutional layer\n",
    "    :param conv_ksize: kernal size 2-D Tuple for the convolutional layer\n",
    "    :param conv_strides: Stride 2-D Tuple for convolution\n",
    "    :param pool_ksize: kernal size 2-D Tuple for pool\n",
    "    :param pool_strides: Stride 2-D Tuple for pool\n",
    "    : return: A tensor that represents convolution and max pooling of x_tensor\n",
    "    \"\"\"\n",
    "    #1st STEP Create the weight and bias using conv_ksize, conv_num_outputs and the shape of x_tensor.\n",
    "    \n",
    "    datos_entrada = x_tensor.shape[3].value\n",
    "    datos_salida = conv_num_outputs\n",
    "    forma_pesos = [*conv_ksize,datos_entrada,datos_salida]\n",
    "    #usage: random_normal(shape,mean=0.0,stddev=1.0,dtype=tf.float32,seed=None,name=None)\n",
    "    #It appears that standard deviation and truncated normal 0.1 improves training a lot vs stddev 1 and std normal\n",
    "    filtro_pesos = tf.Variable(tf.truncated_normal(forma_pesos,stddev=5e-2))\n",
    "    #bias is a vector of zeros same size as output\n",
    "    bias = tf.Variable(tf.zeros(datos_salida))\n",
    "    \n",
    "    #2nd STEP Apply a convolution to x_tensor using weight and conv_strides.\n",
    "    \"\"\"\n",
    "    SINTAXIS:\n",
    "    \n",
    "    conv2d(\n",
    "    input,\n",
    "    filter,\n",
    "    strides,\n",
    "    padding,\n",
    "    use_cudnn_on_gpu=None,\n",
    "    data_format=None,\n",
    "    name=None)\n",
    "    \"\"\"\n",
    "    #As suggested, same padding, using my NVIDIA CUDA capabilities, note that we have to conform the strides vector\n",
    "    # strides[batch,height, width, depth] first and 4th are 1 in our model\n",
    "    x = tf.nn.conv2d(x_tensor, filtro_pesos, strides=[1, *conv_strides, 1], padding='SAME',use_cudnn_on_gpu=True)\n",
    "    \n",
    "    #3rd STEP add bias\n",
    "    \n",
    "    x = tf.nn.bias_add(x, bias)\n",
    "    \n",
    "    #4th STEP Add a nonlinear activation to the convolution (RELU in our case)\n",
    "    \n",
    "    x = tf.nn.relu(x)\n",
    "    \n",
    "    #5th STEP Apply Max Pooling using pool_ksize and pool_strides\n",
    "    \n",
    "    #We conform arrays to match shapes\n",
    "    pool_ksize = [1, *pool_ksize, 1]\n",
    "    pool_strides = [1, *pool_strides, 1]\n",
    "    #Same padding as suggested\n",
    "    x = tf.nn.max_pool(x, pool_ksize, pool_strides, padding='SAME')\n",
    "    return x\n",
    "    \n",
    "\n",
    "\n",
    "\"\"\"\n",
    "DON'T MODIFY ANYTHING IN THIS CELL THAT IS BELOW THIS LINE\n",
    "\"\"\"\n",
    "tests.test_con_pool(conv2d_maxpool)"
   ]
  },
  {
   "cell_type": "markdown",
   "metadata": {},
   "source": [
    "### Flatten Layer\n",
    "Implement the `flatten` function to change the dimension of `x_tensor` from a 4-D tensor to a 2-D tensor.  The output should be the shape (*Batch Size*, *Flattened Image Size*). Shortcut option: you can use classes from the [TensorFlow Layers](https://www.tensorflow.org/api_docs/python/tf/layers) or [TensorFlow Layers (contrib)](https://www.tensorflow.org/api_guides/python/contrib.layers) packages for this layer. For more of a challenge, only use other TensorFlow packages."
   ]
  },
  {
   "cell_type": "code",
   "execution_count": 9,
   "metadata": {},
   "outputs": [
    {
     "name": "stdout",
     "output_type": "stream",
     "text": [
      "Tests Passed\n"
     ]
    }
   ],
   "source": [
    "def flatten(x_tensor):\n",
    "    \"\"\"\n",
    "    Flatten x_tensor to (Batch Size, Flattened Image Size)\n",
    "    : x_tensor: A tensor of size (Batch Size, ...), where ... are the image dimensions.\n",
    "    : return: A tensor of size (Batch Size, Flattened Image Size).\n",
    "    \"\"\"\n",
    "    #Minimum effort law, George Kingsley Zipf studied it, along with the natural occurence of words in language\n",
    "    #the Zipfvian distribution appeared on Andrew Trask sentiment analysis, what a coincidence! :P \n",
    "    \n",
    "    return tf.contrib.layers.flatten(x_tensor)\n",
    "\n",
    "\n",
    "\"\"\"\n",
    "DON'T MODIFY ANYTHING IN THIS CELL THAT IS BELOW THIS LINE\n",
    "\"\"\"\n",
    "tests.test_flatten(flatten)"
   ]
  },
  {
   "cell_type": "markdown",
   "metadata": {},
   "source": [
    "### Fully-Connected Layer\n",
    "Implement the `fully_conn` function to apply a fully connected layer to `x_tensor` with the shape (*Batch Size*, *num_outputs*). Shortcut option: you can use classes from the [TensorFlow Layers](https://www.tensorflow.org/api_docs/python/tf/layers) or [TensorFlow Layers (contrib)](https://www.tensorflow.org/api_guides/python/contrib.layers) packages for this layer. For more of a challenge, only use other TensorFlow packages."
   ]
  },
  {
   "cell_type": "code",
   "execution_count": 75,
   "metadata": {},
   "outputs": [
    {
     "name": "stdout",
     "output_type": "stream",
     "text": [
      "Tests Passed\n"
     ]
    }
   ],
   "source": [
    "def fully_conn(x_tensor, num_outputs):\n",
    "    \"\"\"\n",
    "    Apply a fully connected layer to x_tensor using weight and bias\n",
    "    : x_tensor: A 2-D tensor where the first dimension is batch size.\n",
    "    : num_outputs: The number of output that the new tensor should be.\n",
    "    : return: A 2-D tensor where the second dimension is num_outputs.\n",
    "    \"\"\"\n",
    "    #However as Darwin evolution is missapplied to humans, I think we usually missunderstood minimum effort law\n",
    "    #working hard culture has some good things too, and this one goes without tf layers classes :) \n",
    "   \n",
    "    #weights tensor\n",
    "    weights = tf.Variable(tf.truncated_normal([int(x_tensor.shape[1]), num_outputs], stddev=0.04))\n",
    "    #conform bias tensor\n",
    "    bias = tf.Variable(tf.zeros(num_outputs))\n",
    "    #forward pass\n",
    "    logits = tf.matmul(x_tensor, weights)\n",
    "    logits = tf.nn.bias_add(logits, bias)\n",
    "    #non-linear activation relu\n",
    "    return tf.nn.relu(logits)\n",
    "\n",
    "\n",
    "\"\"\"\n",
    "DON'T MODIFY ANYTHING IN THIS CELL THAT IS BELOW THIS LINE\n",
    "\"\"\"\n",
    "tests.test_fully_conn(fully_conn)"
   ]
  },
  {
   "cell_type": "markdown",
   "metadata": {},
   "source": [
    "### Output Layer\n",
    "Implement the `output` function to apply a fully connected layer to `x_tensor` with the shape (*Batch Size*, *num_outputs*). Shortcut option: you can use classes from the [TensorFlow Layers](https://www.tensorflow.org/api_docs/python/tf/layers) or [TensorFlow Layers (contrib)](https://www.tensorflow.org/api_guides/python/contrib.layers) packages for this layer. For more of a challenge, only use other TensorFlow packages.\n",
    "\n",
    "**Note:** Activation, softmax, or cross entropy should **not** be applied to this."
   ]
  },
  {
   "cell_type": "code",
   "execution_count": 74,
   "metadata": {},
   "outputs": [
    {
     "name": "stdout",
     "output_type": "stream",
     "text": [
      "Tests Passed\n"
     ]
    }
   ],
   "source": [
    "def output(x_tensor, num_outputs):\n",
    "    \"\"\"\n",
    "    Apply a output layer to x_tensor using weight and bias\n",
    "    : x_tensor: A 2-D tensor where the first dimension is batch size.\n",
    "    : num_outputs: The number of output that the new tensor should be.\n",
    "    : return: A 2-D tensor where the second dimension is num_outputs.\n",
    "    \"\"\"\n",
    "    #creating weights tensor\n",
    "    weights = tf.Variable(tf.truncated_normal([int(x_tensor.shape[1]), num_outputs], stddev=(1/num_outputs)))\n",
    "    #creating bias tensor\n",
    "    bias = tf.Variable(tf.zeros(num_outputs))\n",
    "    #forward pass\n",
    "    logits = tf.matmul(x_tensor, weights)\n",
    "    logits = tf.nn.bias_add(logits, bias)\n",
    "    #Return layer without non-linear / activation\n",
    "    return logits\n",
    "\n",
    "\n",
    "\"\"\"\n",
    "DON'T MODIFY ANYTHING IN THIS CELL THAT IS BELOW THIS LINE\n",
    "\"\"\"\n",
    "tests.test_output(output)"
   ]
  },
  {
   "cell_type": "markdown",
   "metadata": {},
   "source": [
    "### Create Convolutional Model\n",
    "Implement the function `conv_net` to create a convolutional neural network model. The function takes in a batch of images, `x`, and outputs logits.  Use the layers you created above to create this model:\n",
    "\n",
    "* Apply 1, 2, or 3 Convolution and Max Pool layers\n",
    "* Apply a Flatten Layer\n",
    "* Apply 1, 2, or 3 Fully Connected Layers\n",
    "* Apply an Output Layer\n",
    "* Return the output\n",
    "* Apply [TensorFlow's Dropout](https://www.tensorflow.org/api_docs/python/tf/nn/dropout) to one or more layers in the model using `keep_prob`. "
   ]
  },
  {
   "cell_type": "code",
   "execution_count": 87,
   "metadata": {},
   "outputs": [
    {
     "name": "stdout",
     "output_type": "stream",
     "text": [
      "Neural Network Built!\n"
     ]
    }
   ],
   "source": [
    "def conv_net(x, keep_prob):\n",
    "    \"\"\"\n",
    "    Create a convolutional neural network model\n",
    "    : x: Placeholder tensor that holds image data.\n",
    "    : keep_prob: Placeholder tensor that hold dropout keep probability.\n",
    "    : return: Tensor that represents logits\n",
    "    \"\"\"\n",
    "    #Since there is a keep_prob I guess we should use a dropout somewhere\n",
    "    #Example model layers from experts: https://github.com/tensorflow/models/blob/master/tutorials/image/cifar10/cifar10.py\n",
    "   \n",
    "    #    Play around with different number of outputs, kernel size and stride\n",
    "    # Function Definition from Above:\n",
    "    #    conv2d_maxpool(x_tensor, conv_num_outputs, conv_ksize, conv_strides, pool_ksize, pool_strides)\n",
    "    \n",
    "    #my_conv_net = conv2d_maxpool(x, conv_num_outputs=16, conv_ksize=[4,4],conv_strides=[1,1],pool_ksize=[2,2],pool_strides=[1,1])\n",
    "    #my_conv_net = conv2d_maxpool(x, conv_num_outputs=16, conv_ksize=[4,4],conv_strides=[1,1],pool_ksize=[2,2],pool_strides=[1,1])\n",
    "    \n",
    "    my_conv_net = conv2d_maxpool(x, conv_num_outputs=64, conv_ksize=[5,5],conv_strides=[1,1],pool_ksize=[3,3],pool_strides=[2,2])\n",
    "    my_conv_net = conv2d_maxpool(x, conv_num_outputs=64, conv_ksize=[5,5],conv_strides=[1,1],pool_ksize=[3,3],pool_strides=[2,2])\n",
    "    #Apply a Flatten Layer\n",
    "    # Function Definition from Above:\n",
    "    #   flatten(x_tensor)\n",
    "    \n",
    "    my_conv_net = tf.nn.dropout(my_conv_net, keep_prob)\n",
    "    my_conv_net = flatten(my_conv_net)\n",
    "   \n",
    "    # TODO: Apply 1, 2, or 3 Fully Connected Layers\n",
    "    #    Play around with different number of outputs\n",
    "    # Function Definition from Above:\n",
    "    #   fully_conn(x_tensor, num_outputs)\n",
    "    \n",
    "    my_conv_net = fully_conn(my_conv_net,384)\n",
    "   \n",
    "    my_conv_net = fully_conn(my_conv_net,192)\n",
    "    \n",
    "    #Output Layer\n",
    "    #Set this to the number of classes\n",
    "    #Function Definition from Above:\n",
    "    #output(x_tensor, num_outputs)\n",
    "    \n",
    "    my_conv_net = tf.nn.dropout(my_conv_net, keep_prob)\n",
    "    \n",
    "    #10 CIFAR images so 10 different outputs \n",
    "    my_conv_net = output(my_conv_net,10)\n",
    "    \n",
    "   \n",
    "    return my_conv_net\n",
    "\n",
    "\n",
    "\"\"\"\n",
    "DON'T MODIFY ANYTHING IN THIS CELL THAT IS BELOW THIS LINE\n",
    "\"\"\"\n",
    "\n",
    "##############################\n",
    "## Build the Neural Network ##\n",
    "##############################\n",
    "\n",
    "# Remove previous weights, bias, inputs, etc..\n",
    "tf.reset_default_graph()\n",
    "\n",
    "# Inputs\n",
    "x = neural_net_image_input((32, 32, 3))\n",
    "y = neural_net_label_input(10)\n",
    "keep_prob = neural_net_keep_prob_input()\n",
    "\n",
    "# Model\n",
    "logits = conv_net(x, keep_prob)\n",
    "\n",
    "# Name logits Tensor, so that is can be loaded from disk after training\n",
    "logits = tf.identity(logits, name='logits')\n",
    "\n",
    "# Loss and Optimizer\n",
    "cost = tf.reduce_mean(tf.nn.softmax_cross_entropy_with_logits(logits=logits, labels=y))\n",
    "optimizer = tf.train.AdamOptimizer().minimize(cost)\n",
    "\n",
    "# Accuracy\n",
    "correct_pred = tf.equal(tf.argmax(logits, 1), tf.argmax(y, 1))\n",
    "accuracy = tf.reduce_mean(tf.cast(correct_pred, tf.float32), name='accuracy')\n",
    "\n",
    "tests.test_conv_net(conv_net)"
   ]
  },
  {
   "cell_type": "markdown",
   "metadata": {},
   "source": [
    "## Train the Neural Network\n",
    "### Single Optimization\n",
    "Implement the function `train_neural_network` to do a single optimization.  The optimization should use `optimizer` to optimize in `session` with a `feed_dict` of the following:\n",
    "* `x` for image input\n",
    "* `y` for labels\n",
    "* `keep_prob` for keep probability for dropout\n",
    "\n",
    "This function will be called for each batch, so `tf.global_variables_initializer()` has already been called.\n",
    "\n",
    "Note: Nothing needs to be returned. This function is only optimizing the neural network."
   ]
  },
  {
   "cell_type": "code",
   "execution_count": 13,
   "metadata": {},
   "outputs": [
    {
     "name": "stdout",
     "output_type": "stream",
     "text": [
      "Tests Passed\n"
     ]
    }
   ],
   "source": [
    "def train_neural_network(session, optimizer, keep_probability, feature_batch, label_batch):\n",
    "    \"\"\"\n",
    "    Optimize the session on a batch of images and labels\n",
    "    : session: Current TensorFlow session\n",
    "    : optimizer: TensorFlow optimizer function\n",
    "    : keep_probability: keep probability\n",
    "    : feature_batch: Batch of Numpy image data\n",
    "    : label_batch: Batch of Numpy label data\n",
    "    :SYNTAX tf.Session.run(fetches,feed_dict=None,options=None,run_metadata=None)\n",
    "    \"\"\"\n",
    "    session.run(optimizer,feed_dict={x:feature_batch,y:label_batch,keep_prob:keep_probability})\n",
    "\n",
    "\n",
    "\n",
    "\"\"\"\n",
    "DON'T MODIFY ANYTHING IN THIS CELL THAT IS BELOW THIS LINE\n",
    "\"\"\"\n",
    "tests.test_train_nn(train_neural_network)"
   ]
  },
  {
   "cell_type": "markdown",
   "metadata": {},
   "source": [
    "### Show Stats\n",
    "Implement the function `print_stats` to print loss and validation accuracy.  Use the global variables `valid_features` and `valid_labels` to calculate validation accuracy.  Use a keep probability of `1.0` to calculate the loss and validation accuracy."
   ]
  },
  {
   "cell_type": "code",
   "execution_count": 25,
   "metadata": {
    "collapsed": true
   },
   "outputs": [],
   "source": [
    "def print_stats(session, feature_batch, label_batch, cost, accuracy):\n",
    "    \"\"\"\n",
    "    Print information about loss and validation accuracy\n",
    "    : session: Current TensorFlow session\n",
    "    : feature_batch: Batch of Numpy image data\n",
    "    : label_batch: Batch of Numpy label data\n",
    "    : cost: TensorFlow cost function\n",
    "    : accuracy: TensorFlow accuracy function\n",
    "    \"\"\"\n",
    "    #Keep_prob = 1 because in checking net performance we do not dropout data\n",
    "    loss = session.run(cost, feed_dict={x:feature_batch, y:label_batch, keep_prob:1.0})\n",
    "    valid_acc = sess.run(accuracy, feed_dict={x: valid_features,y: valid_labels,keep_prob: 1.0})\n",
    "    print('Loss:{:>10.4f} || Validation Accuracy:{:.4f}'.format(loss,valid_acc))"
   ]
  },
  {
   "cell_type": "markdown",
   "metadata": {},
   "source": [
    "### Hyperparameters\n",
    "Tune the following parameters:\n",
    "* Set `epochs` to the number of iterations until the network stops learning or start overfitting\n",
    "* Set `batch_size` to the highest number that your machine has memory for.  Most people set them to common sizes of memory:\n",
    " * 64\n",
    " * 128\n",
    " * 256\n",
    " * ...\n",
    "* Set `keep_probability` to the probability of keeping a node using dropout"
   ]
  },
  {
   "cell_type": "code",
   "execution_count": 89,
   "metadata": {
    "collapsed": true
   },
   "outputs": [],
   "source": [
    "# TODO: Tune Parameters\n",
    "epochs = 30\n",
    "batch_size = 256\n",
    "keep_probability = 0.2"
   ]
  },
  {
   "cell_type": "markdown",
   "metadata": {},
   "source": [
    "### Train on a Single CIFAR-10 Batch\n",
    "Instead of training the neural network on all the CIFAR-10 batches of data, let's use a single batch. This should save time while you iterate on the model to get a better accuracy.  Once the final validation accuracy is 50% or greater, run the model on all the data in the next section."
   ]
  },
  {
   "cell_type": "code",
   "execution_count": 92,
   "metadata": {},
   "outputs": [
    {
     "name": "stdout",
     "output_type": "stream",
     "text": [
      "Checking the Training on a Single Batch...\n",
      "Epoch  1, CIFAR-10 Batch 1:  Loss:    2.2660 || Validation Accuracy:0.1876\n",
      "Epoch  2, CIFAR-10 Batch 1:  Loss:    2.1767 || Validation Accuracy:0.2534\n",
      "Epoch  3, CIFAR-10 Batch 1:  Loss:    2.0228 || Validation Accuracy:0.3556\n",
      "Epoch  4, CIFAR-10 Batch 1:  Loss:    1.9000 || Validation Accuracy:0.3700\n",
      "Epoch  5, CIFAR-10 Batch 1:  Loss:    1.8182 || Validation Accuracy:0.4160\n",
      "Epoch  6, CIFAR-10 Batch 1:  Loss:    1.7189 || Validation Accuracy:0.4376\n",
      "Epoch  7, CIFAR-10 Batch 1:  Loss:    1.5803 || Validation Accuracy:0.4442\n",
      "Epoch  8, CIFAR-10 Batch 1:  Loss:    1.4024 || Validation Accuracy:0.4644\n",
      "Epoch  9, CIFAR-10 Batch 1:  Loss:    1.2909 || Validation Accuracy:0.4824\n",
      "Epoch 10, CIFAR-10 Batch 1:  Loss:    1.2351 || Validation Accuracy:0.4812\n",
      "Epoch 11, CIFAR-10 Batch 1:  Loss:    1.0986 || Validation Accuracy:0.4968\n",
      "Epoch 12, CIFAR-10 Batch 1:  Loss:    1.0781 || Validation Accuracy:0.5060\n",
      "Epoch 13, CIFAR-10 Batch 1:  Loss:    0.9618 || Validation Accuracy:0.5164\n",
      "Epoch 14, CIFAR-10 Batch 1:  Loss:    0.9474 || Validation Accuracy:0.5206\n",
      "Epoch 15, CIFAR-10 Batch 1:  Loss:    0.8718 || Validation Accuracy:0.5204\n",
      "Epoch 16, CIFAR-10 Batch 1:  Loss:    0.8203 || Validation Accuracy:0.5354\n",
      "Epoch 17, CIFAR-10 Batch 1:  Loss:    0.7791 || Validation Accuracy:0.5360\n",
      "Epoch 18, CIFAR-10 Batch 1:  Loss:    0.7526 || Validation Accuracy:0.5448\n",
      "Epoch 19, CIFAR-10 Batch 1:  Loss:    0.6822 || Validation Accuracy:0.5502\n",
      "Epoch 20, CIFAR-10 Batch 1:  Loss:    0.6601 || Validation Accuracy:0.5464\n",
      "Epoch 21, CIFAR-10 Batch 1:  Loss:    0.6539 || Validation Accuracy:0.5430\n",
      "Epoch 22, CIFAR-10 Batch 1:  Loss:    0.6374 || Validation Accuracy:0.5548\n",
      "Epoch 23, CIFAR-10 Batch 1:  Loss:    0.5512 || Validation Accuracy:0.5524\n",
      "Epoch 24, CIFAR-10 Batch 1:  Loss:    0.5511 || Validation Accuracy:0.5592\n",
      "Epoch 25, CIFAR-10 Batch 1:  Loss:    0.4922 || Validation Accuracy:0.5718\n",
      "Epoch 26, CIFAR-10 Batch 1:  Loss:    0.4871 || Validation Accuracy:0.5756\n",
      "Epoch 27, CIFAR-10 Batch 1:  Loss:    0.4567 || Validation Accuracy:0.5720\n",
      "Epoch 28, CIFAR-10 Batch 1:  Loss:    0.4278 || Validation Accuracy:0.5866\n",
      "Epoch 29, CIFAR-10 Batch 1:  Loss:    0.4456 || Validation Accuracy:0.5740\n",
      "Epoch 30, CIFAR-10 Batch 1:  Loss:    0.3635 || Validation Accuracy:0.5872\n"
     ]
    }
   ],
   "source": [
    "\"\"\"\n",
    "DON'T MODIFY ANYTHING IN THIS CELL\n",
    "\"\"\"\n",
    "print('Checking the Training on a Single Batch...')\n",
    "with tf.Session() as sess:\n",
    "    # Initializing the variables\n",
    "    sess.run(tf.global_variables_initializer())\n",
    "    \n",
    "    # Training cycle\n",
    "    for epoch in range(epochs):\n",
    "        batch_i = 1\n",
    "        for batch_features, batch_labels in helper.load_preprocess_training_batch(batch_i, batch_size):\n",
    "            train_neural_network(sess, optimizer, keep_probability, batch_features, batch_labels)\n",
    "        print('Epoch {:>2}, CIFAR-10 Batch {}:  '.format(epoch + 1, batch_i), end='')\n",
    "        print_stats(sess, batch_features, batch_labels, cost, accuracy)"
   ]
  },
  {
   "cell_type": "markdown",
   "metadata": {},
   "source": [
    "### Fully Train the Model\n",
    "Now that you got a good accuracy with a single CIFAR-10 batch, try it with all five batches."
   ]
  },
  {
   "cell_type": "code",
   "execution_count": 90,
   "metadata": {},
   "outputs": [
    {
     "name": "stdout",
     "output_type": "stream",
     "text": [
      "Training...\n",
      "Epoch  1, CIFAR-10 Batch 1:  Loss:    2.2381 || Validation Accuracy:0.1740\n",
      "Epoch  1, CIFAR-10 Batch 2:  Loss:    2.0305 || Validation Accuracy:0.3046\n",
      "Epoch  1, CIFAR-10 Batch 3:  Loss:    1.6998 || Validation Accuracy:0.3798\n",
      "Epoch  1, CIFAR-10 Batch 4:  Loss:    1.7219 || Validation Accuracy:0.4126\n",
      "Epoch  1, CIFAR-10 Batch 5:  Loss:    1.6363 || Validation Accuracy:0.4290\n",
      "Epoch  2, CIFAR-10 Batch 1:  Loss:    1.6752 || Validation Accuracy:0.4504\n",
      "Epoch  2, CIFAR-10 Batch 2:  Loss:    1.5879 || Validation Accuracy:0.4714\n",
      "Epoch  2, CIFAR-10 Batch 3:  Loss:    1.3498 || Validation Accuracy:0.4646\n",
      "Epoch  2, CIFAR-10 Batch 4:  Loss:    1.4632 || Validation Accuracy:0.4832\n",
      "Epoch  2, CIFAR-10 Batch 5:  Loss:    1.4193 || Validation Accuracy:0.4946\n",
      "Epoch  3, CIFAR-10 Batch 1:  Loss:    1.4044 || Validation Accuracy:0.5068\n",
      "Epoch  3, CIFAR-10 Batch 2:  Loss:    1.4168 || Validation Accuracy:0.5048\n",
      "Epoch  3, CIFAR-10 Batch 3:  Loss:    1.1529 || Validation Accuracy:0.5136\n",
      "Epoch  3, CIFAR-10 Batch 4:  Loss:    1.3181 || Validation Accuracy:0.5368\n",
      "Epoch  3, CIFAR-10 Batch 5:  Loss:    1.2601 || Validation Accuracy:0.5256\n",
      "Epoch  4, CIFAR-10 Batch 1:  Loss:    1.2115 || Validation Accuracy:0.5388\n",
      "Epoch  4, CIFAR-10 Batch 2:  Loss:    1.1379 || Validation Accuracy:0.5424\n",
      "Epoch  4, CIFAR-10 Batch 3:  Loss:    1.0234 || Validation Accuracy:0.5532\n",
      "Epoch  4, CIFAR-10 Batch 4:  Loss:    1.1764 || Validation Accuracy:0.5596\n",
      "Epoch  4, CIFAR-10 Batch 5:  Loss:    1.1393 || Validation Accuracy:0.5446\n",
      "Epoch  5, CIFAR-10 Batch 1:  Loss:    1.0560 || Validation Accuracy:0.5772\n",
      "Epoch  5, CIFAR-10 Batch 2:  Loss:    1.0753 || Validation Accuracy:0.5688\n",
      "Epoch  5, CIFAR-10 Batch 3:  Loss:    0.9510 || Validation Accuracy:0.5748\n",
      "Epoch  5, CIFAR-10 Batch 4:  Loss:    1.0811 || Validation Accuracy:0.5872\n",
      "Epoch  5, CIFAR-10 Batch 5:  Loss:    1.0437 || Validation Accuracy:0.5636\n",
      "Epoch  6, CIFAR-10 Batch 1:  Loss:    0.9701 || Validation Accuracy:0.5892\n",
      "Epoch  6, CIFAR-10 Batch 2:  Loss:    0.9581 || Validation Accuracy:0.5874\n",
      "Epoch  6, CIFAR-10 Batch 3:  Loss:    0.8478 || Validation Accuracy:0.5912\n",
      "Epoch  6, CIFAR-10 Batch 4:  Loss:    0.9723 || Validation Accuracy:0.5934\n",
      "Epoch  6, CIFAR-10 Batch 5:  Loss:    0.9184 || Validation Accuracy:0.6030\n",
      "Epoch  7, CIFAR-10 Batch 1:  Loss:    0.9022 || Validation Accuracy:0.6002\n",
      "Epoch  7, CIFAR-10 Batch 2:  Loss:    0.9168 || Validation Accuracy:0.6016\n",
      "Epoch  7, CIFAR-10 Batch 3:  Loss:    0.7399 || Validation Accuracy:0.6062\n",
      "Epoch  7, CIFAR-10 Batch 4:  Loss:    0.8344 || Validation Accuracy:0.6178\n",
      "Epoch  7, CIFAR-10 Batch 5:  Loss:    0.8148 || Validation Accuracy:0.6150\n",
      "Epoch  8, CIFAR-10 Batch 1:  Loss:    0.8071 || Validation Accuracy:0.6172\n",
      "Epoch  8, CIFAR-10 Batch 2:  Loss:    0.7880 || Validation Accuracy:0.6224\n",
      "Epoch  8, CIFAR-10 Batch 3:  Loss:    0.6923 || Validation Accuracy:0.6174\n",
      "Epoch  8, CIFAR-10 Batch 4:  Loss:    0.8256 || Validation Accuracy:0.6180\n",
      "Epoch  8, CIFAR-10 Batch 5:  Loss:    0.7557 || Validation Accuracy:0.6242\n",
      "Epoch  9, CIFAR-10 Batch 1:  Loss:    0.7323 || Validation Accuracy:0.6260\n",
      "Epoch  9, CIFAR-10 Batch 2:  Loss:    0.7409 || Validation Accuracy:0.6158\n",
      "Epoch  9, CIFAR-10 Batch 3:  Loss:    0.5918 || Validation Accuracy:0.6300\n",
      "Epoch  9, CIFAR-10 Batch 4:  Loss:    0.6645 || Validation Accuracy:0.6328\n",
      "Epoch  9, CIFAR-10 Batch 5:  Loss:    0.6893 || Validation Accuracy:0.6292\n",
      "Epoch 10, CIFAR-10 Batch 1:  Loss:    0.7191 || Validation Accuracy:0.6290\n",
      "Epoch 10, CIFAR-10 Batch 2:  Loss:    0.6692 || Validation Accuracy:0.6342\n",
      "Epoch 10, CIFAR-10 Batch 3:  Loss:    0.5489 || Validation Accuracy:0.6386\n",
      "Epoch 10, CIFAR-10 Batch 4:  Loss:    0.6207 || Validation Accuracy:0.6418\n",
      "Epoch 10, CIFAR-10 Batch 5:  Loss:    0.6130 || Validation Accuracy:0.6464\n",
      "Epoch 11, CIFAR-10 Batch 1:  Loss:    0.6432 || Validation Accuracy:0.6394\n",
      "Epoch 11, CIFAR-10 Batch 2:  Loss:    0.5810 || Validation Accuracy:0.6374\n",
      "Epoch 11, CIFAR-10 Batch 3:  Loss:    0.4780 || Validation Accuracy:0.6350\n",
      "Epoch 11, CIFAR-10 Batch 4:  Loss:    0.5681 || Validation Accuracy:0.6404\n",
      "Epoch 11, CIFAR-10 Batch 5:  Loss:    0.5834 || Validation Accuracy:0.6320\n",
      "Epoch 12, CIFAR-10 Batch 1:  Loss:    0.5800 || Validation Accuracy:0.6496\n",
      "Epoch 12, CIFAR-10 Batch 2:  Loss:    0.5699 || Validation Accuracy:0.6408\n",
      "Epoch 12, CIFAR-10 Batch 3:  Loss:    0.4393 || Validation Accuracy:0.6488\n",
      "Epoch 12, CIFAR-10 Batch 4:  Loss:    0.4962 || Validation Accuracy:0.6482\n",
      "Epoch 12, CIFAR-10 Batch 5:  Loss:    0.4522 || Validation Accuracy:0.6542\n",
      "Epoch 13, CIFAR-10 Batch 1:  Loss:    0.5696 || Validation Accuracy:0.6568\n",
      "Epoch 13, CIFAR-10 Batch 2:  Loss:    0.4981 || Validation Accuracy:0.6594\n",
      "Epoch 13, CIFAR-10 Batch 3:  Loss:    0.3477 || Validation Accuracy:0.6544\n",
      "Epoch 13, CIFAR-10 Batch 4:  Loss:    0.4603 || Validation Accuracy:0.6570\n",
      "Epoch 13, CIFAR-10 Batch 5:  Loss:    0.4155 || Validation Accuracy:0.6626\n",
      "Epoch 14, CIFAR-10 Batch 1:  Loss:    0.5327 || Validation Accuracy:0.6624\n",
      "Epoch 14, CIFAR-10 Batch 2:  Loss:    0.4558 || Validation Accuracy:0.6588\n",
      "Epoch 14, CIFAR-10 Batch 3:  Loss:    0.3290 || Validation Accuracy:0.6550\n",
      "Epoch 14, CIFAR-10 Batch 4:  Loss:    0.3653 || Validation Accuracy:0.6544\n",
      "Epoch 14, CIFAR-10 Batch 5:  Loss:    0.4231 || Validation Accuracy:0.6572\n",
      "Epoch 15, CIFAR-10 Batch 1:  Loss:    0.4468 || Validation Accuracy:0.6644\n",
      "Epoch 15, CIFAR-10 Batch 2:  Loss:    0.4115 || Validation Accuracy:0.6640\n",
      "Epoch 15, CIFAR-10 Batch 3:  Loss:    0.3172 || Validation Accuracy:0.6478\n",
      "Epoch 15, CIFAR-10 Batch 4:  Loss:    0.3388 || Validation Accuracy:0.6660\n",
      "Epoch 15, CIFAR-10 Batch 5:  Loss:    0.3494 || Validation Accuracy:0.6694\n",
      "Epoch 16, CIFAR-10 Batch 1:  Loss:    0.4641 || Validation Accuracy:0.6566\n",
      "Epoch 16, CIFAR-10 Batch 2:  Loss:    0.3798 || Validation Accuracy:0.6748\n",
      "Epoch 16, CIFAR-10 Batch 3:  Loss:    0.3202 || Validation Accuracy:0.6612\n",
      "Epoch 16, CIFAR-10 Batch 4:  Loss:    0.3202 || Validation Accuracy:0.6606\n",
      "Epoch 16, CIFAR-10 Batch 5:  Loss:    0.3316 || Validation Accuracy:0.6680\n",
      "Epoch 17, CIFAR-10 Batch 1:  Loss:    0.4190 || Validation Accuracy:0.6672\n",
      "Epoch 17, CIFAR-10 Batch 2:  Loss:    0.3335 || Validation Accuracy:0.6728\n",
      "Epoch 17, CIFAR-10 Batch 3:  Loss:    0.2485 || Validation Accuracy:0.6602\n",
      "Epoch 17, CIFAR-10 Batch 4:  Loss:    0.2893 || Validation Accuracy:0.6706\n",
      "Epoch 17, CIFAR-10 Batch 5:  Loss:    0.2753 || Validation Accuracy:0.6760\n",
      "Epoch 18, CIFAR-10 Batch 1:  Loss:    0.3640 || Validation Accuracy:0.6758\n",
      "Epoch 18, CIFAR-10 Batch 2:  Loss:    0.3106 || Validation Accuracy:0.6846\n",
      "Epoch 18, CIFAR-10 Batch 3:  Loss:    0.2074 || Validation Accuracy:0.6716\n",
      "Epoch 18, CIFAR-10 Batch 4:  Loss:    0.2310 || Validation Accuracy:0.6784\n",
      "Epoch 18, CIFAR-10 Batch 5:  Loss:    0.2333 || Validation Accuracy:0.6846\n",
      "Epoch 19, CIFAR-10 Batch 1:  Loss:    0.3532 || Validation Accuracy:0.6768\n",
      "Epoch 19, CIFAR-10 Batch 2:  Loss:    0.2399 || Validation Accuracy:0.6744\n",
      "Epoch 19, CIFAR-10 Batch 3:  Loss:    0.2033 || Validation Accuracy:0.6720\n",
      "Epoch 19, CIFAR-10 Batch 4:  Loss:    0.2242 || Validation Accuracy:0.6852\n",
      "Epoch 19, CIFAR-10 Batch 5:  Loss:    0.2211 || Validation Accuracy:0.6718\n",
      "Epoch 20, CIFAR-10 Batch 1:  Loss:    0.3048 || Validation Accuracy:0.6814\n",
      "Epoch 20, CIFAR-10 Batch 2:  Loss:    0.2391 || Validation Accuracy:0.6814\n",
      "Epoch 20, CIFAR-10 Batch 3:  Loss:    0.1470 || Validation Accuracy:0.6818\n",
      "Epoch 20, CIFAR-10 Batch 4:  Loss:    0.1885 || Validation Accuracy:0.6860\n",
      "Epoch 20, CIFAR-10 Batch 5:  Loss:    0.1968 || Validation Accuracy:0.6796\n",
      "Epoch 21, CIFAR-10 Batch 1:  Loss:    0.2837 || Validation Accuracy:0.6854\n",
      "Epoch 21, CIFAR-10 Batch 2:  Loss:    0.2400 || Validation Accuracy:0.6794\n",
      "Epoch 21, CIFAR-10 Batch 3:  Loss:    0.1582 || Validation Accuracy:0.6802\n",
      "Epoch 21, CIFAR-10 Batch 4:  Loss:    0.1753 || Validation Accuracy:0.6902\n",
      "Epoch 21, CIFAR-10 Batch 5:  Loss:    0.1725 || Validation Accuracy:0.6824\n",
      "Epoch 22, CIFAR-10 Batch 1:  Loss:    0.2801 || Validation Accuracy:0.6858\n",
      "Epoch 22, CIFAR-10 Batch 2:  Loss:    0.2012 || Validation Accuracy:0.6878\n",
      "Epoch 22, CIFAR-10 Batch 3:  Loss:    0.1418 || Validation Accuracy:0.6892\n",
      "Epoch 22, CIFAR-10 Batch 4:  Loss:    0.1617 || Validation Accuracy:0.6844\n"
     ]
    },
    {
     "name": "stdout",
     "output_type": "stream",
     "text": [
      "Epoch 22, CIFAR-10 Batch 5:  Loss:    0.1715 || Validation Accuracy:0.6902\n",
      "Epoch 23, CIFAR-10 Batch 1:  Loss:    0.2543 || Validation Accuracy:0.6888\n",
      "Epoch 23, CIFAR-10 Batch 2:  Loss:    0.1637 || Validation Accuracy:0.6928\n",
      "Epoch 23, CIFAR-10 Batch 3:  Loss:    0.1222 || Validation Accuracy:0.6890\n",
      "Epoch 23, CIFAR-10 Batch 4:  Loss:    0.1558 || Validation Accuracy:0.6884\n",
      "Epoch 23, CIFAR-10 Batch 5:  Loss:    0.1444 || Validation Accuracy:0.6812\n",
      "Epoch 24, CIFAR-10 Batch 1:  Loss:    0.2439 || Validation Accuracy:0.6840\n",
      "Epoch 24, CIFAR-10 Batch 2:  Loss:    0.1793 || Validation Accuracy:0.6934\n",
      "Epoch 24, CIFAR-10 Batch 3:  Loss:    0.1167 || Validation Accuracy:0.6868\n",
      "Epoch 24, CIFAR-10 Batch 4:  Loss:    0.1441 || Validation Accuracy:0.6930\n",
      "Epoch 24, CIFAR-10 Batch 5:  Loss:    0.1332 || Validation Accuracy:0.6902\n",
      "Epoch 25, CIFAR-10 Batch 1:  Loss:    0.2089 || Validation Accuracy:0.6790\n",
      "Epoch 25, CIFAR-10 Batch 2:  Loss:    0.1474 || Validation Accuracy:0.6918\n",
      "Epoch 25, CIFAR-10 Batch 3:  Loss:    0.1121 || Validation Accuracy:0.6860\n",
      "Epoch 25, CIFAR-10 Batch 4:  Loss:    0.1195 || Validation Accuracy:0.6886\n",
      "Epoch 25, CIFAR-10 Batch 5:  Loss:    0.1150 || Validation Accuracy:0.6968\n",
      "Epoch 26, CIFAR-10 Batch 1:  Loss:    0.1981 || Validation Accuracy:0.6900\n",
      "Epoch 26, CIFAR-10 Batch 2:  Loss:    0.1280 || Validation Accuracy:0.6932\n",
      "Epoch 26, CIFAR-10 Batch 3:  Loss:    0.0931 || Validation Accuracy:0.7042\n",
      "Epoch 26, CIFAR-10 Batch 4:  Loss:    0.1039 || Validation Accuracy:0.6908\n",
      "Epoch 26, CIFAR-10 Batch 5:  Loss:    0.1149 || Validation Accuracy:0.7002\n",
      "Epoch 27, CIFAR-10 Batch 1:  Loss:    0.1944 || Validation Accuracy:0.6964\n",
      "Epoch 27, CIFAR-10 Batch 2:  Loss:    0.1274 || Validation Accuracy:0.6956\n",
      "Epoch 27, CIFAR-10 Batch 3:  Loss:    0.0974 || Validation Accuracy:0.6930\n",
      "Epoch 27, CIFAR-10 Batch 4:  Loss:    0.0876 || Validation Accuracy:0.6932\n",
      "Epoch 27, CIFAR-10 Batch 5:  Loss:    0.0952 || Validation Accuracy:0.6944\n",
      "Epoch 28, CIFAR-10 Batch 1:  Loss:    0.2016 || Validation Accuracy:0.6866\n",
      "Epoch 28, CIFAR-10 Batch 2:  Loss:    0.1251 || Validation Accuracy:0.6962\n",
      "Epoch 28, CIFAR-10 Batch 3:  Loss:    0.0860 || Validation Accuracy:0.6926\n",
      "Epoch 28, CIFAR-10 Batch 4:  Loss:    0.1089 || Validation Accuracy:0.6908\n",
      "Epoch 28, CIFAR-10 Batch 5:  Loss:    0.0770 || Validation Accuracy:0.6902\n",
      "Epoch 29, CIFAR-10 Batch 1:  Loss:    0.1827 || Validation Accuracy:0.6952\n",
      "Epoch 29, CIFAR-10 Batch 2:  Loss:    0.0994 || Validation Accuracy:0.6978\n",
      "Epoch 29, CIFAR-10 Batch 3:  Loss:    0.0844 || Validation Accuracy:0.6904\n",
      "Epoch 29, CIFAR-10 Batch 4:  Loss:    0.0864 || Validation Accuracy:0.6968\n",
      "Epoch 29, CIFAR-10 Batch 5:  Loss:    0.0761 || Validation Accuracy:0.6864\n",
      "Epoch 30, CIFAR-10 Batch 1:  Loss:    0.1637 || Validation Accuracy:0.6884\n",
      "Epoch 30, CIFAR-10 Batch 2:  Loss:    0.0961 || Validation Accuracy:0.6838\n",
      "Epoch 30, CIFAR-10 Batch 3:  Loss:    0.0552 || Validation Accuracy:0.6964\n",
      "Epoch 30, CIFAR-10 Batch 4:  Loss:    0.0924 || Validation Accuracy:0.6992\n",
      "Epoch 30, CIFAR-10 Batch 5:  Loss:    0.0570 || Validation Accuracy:0.6924\n"
     ]
    }
   ],
   "source": [
    "\"\"\"\n",
    "DON'T MODIFY ANYTHING IN THIS CELL\n",
    "\"\"\"\n",
    "save_model_path = './image_classification'\n",
    "\n",
    "print('Training...')\n",
    "with tf.Session() as sess:\n",
    "    # Initializing the variables\n",
    "    sess.run(tf.global_variables_initializer())\n",
    "    \n",
    "    # Training cycle\n",
    "    for epoch in range(epochs):\n",
    "        # Loop over all batches\n",
    "        n_batches = 5\n",
    "        for batch_i in range(1, n_batches + 1):\n",
    "            for batch_features, batch_labels in helper.load_preprocess_training_batch(batch_i, batch_size):\n",
    "                train_neural_network(sess, optimizer, keep_probability, batch_features, batch_labels)\n",
    "            print('Epoch {:>2}, CIFAR-10 Batch {}:  '.format(epoch + 1, batch_i), end='')\n",
    "            print_stats(sess, batch_features, batch_labels, cost, accuracy)\n",
    "            \n",
    "    # Save Model\n",
    "    saver = tf.train.Saver()\n",
    "    save_path = saver.save(sess, save_model_path)"
   ]
  },
  {
   "cell_type": "markdown",
   "metadata": {},
   "source": [
    "# Checkpoint\n",
    "The model has been saved to disk.\n",
    "## Test Model\n",
    "Test your model against the test dataset.  This will be your final accuracy. You should have an accuracy greater than 50%. If you don't, keep tweaking the model architecture and parameters."
   ]
  },
  {
   "cell_type": "code",
   "execution_count": 91,
   "metadata": {},
   "outputs": [
    {
     "name": "stdout",
     "output_type": "stream",
     "text": [
      "INFO:tensorflow:Restoring parameters from ./image_classification\n"
     ]
    },
    {
     "name": "stderr",
     "output_type": "stream",
     "text": [
      "INFO:tensorflow:Restoring parameters from ./image_classification\n"
     ]
    },
    {
     "name": "stdout",
     "output_type": "stream",
     "text": [
      "Testing Accuracy: 0.70498046875\n",
      "\n"
     ]
    },
    {
     "data": {
      "image/png": "[encoded data removed]",
      "text/plain": [
       "<matplotlib.figure.Figure at 0x1ede40f9b38>"
      ]
     },
     "metadata": {
      "image/png": {
       "height": 319,
       "width": 355
      }
     },
     "output_type": "display_data"
    }
   ],
   "source": [
    "\"\"\"\n",
    "DON'T MODIFY ANYTHING IN THIS CELL\n",
    "\"\"\"\n",
    "%matplotlib inline\n",
    "%config InlineBackend.figure_format = 'retina'\n",
    "\n",
    "import tensorflow as tf\n",
    "import pickle\n",
    "import helper\n",
    "import random\n",
    "\n",
    "# Set batch size if not already set\n",
    "try:\n",
    "    if batch_size:\n",
    "        pass\n",
    "except NameError:\n",
    "    batch_size = 64\n",
    "\n",
    "save_model_path = './image_classification'\n",
    "n_samples = 4\n",
    "top_n_predictions = 3\n",
    "\n",
    "def test_model():\n",
    "    \"\"\"\n",
    "    Test the saved model against the test dataset\n",
    "    \"\"\"\n",
    "\n",
    "    test_features, test_labels = pickle.load(open('preprocess_test.p', mode='rb'))\n",
    "    loaded_graph = tf.Graph()\n",
    "\n",
    "    with tf.Session(graph=loaded_graph) as sess:\n",
    "        # Load model\n",
    "        loader = tf.train.import_meta_graph(save_model_path + '.meta')\n",
    "        loader.restore(sess, save_model_path)\n",
    "\n",
    "        # Get Tensors from loaded model\n",
    "        loaded_x = loaded_graph.get_tensor_by_name('x:0')\n",
    "        loaded_y = loaded_graph.get_tensor_by_name('y:0')\n",
    "        loaded_keep_prob = loaded_graph.get_tensor_by_name('keep_prob:0')\n",
    "        loaded_logits = loaded_graph.get_tensor_by_name('logits:0')\n",
    "        loaded_acc = loaded_graph.get_tensor_by_name('accuracy:0')\n",
    "        \n",
    "        # Get accuracy in batches for memory limitations\n",
    "        test_batch_acc_total = 0\n",
    "        test_batch_count = 0\n",
    "        \n",
    "        for test_feature_batch, test_label_batch in helper.batch_features_labels(test_features, test_labels, batch_size):\n",
    "            test_batch_acc_total += sess.run(\n",
    "                loaded_acc,\n",
    "                feed_dict={loaded_x: test_feature_batch, loaded_y: test_label_batch, loaded_keep_prob: 1.0})\n",
    "            test_batch_count += 1\n",
    "\n",
    "        print('Testing Accuracy: {}\\n'.format(test_batch_acc_total/test_batch_count))\n",
    "\n",
    "        # Print Random Samples\n",
    "        random_test_features, random_test_labels = tuple(zip(*random.sample(list(zip(test_features, test_labels)), n_samples)))\n",
    "        random_test_predictions = sess.run(\n",
    "            tf.nn.top_k(tf.nn.softmax(loaded_logits), top_n_predictions),\n",
    "            feed_dict={loaded_x: random_test_features, loaded_y: random_test_labels, loaded_keep_prob: 1.0})\n",
    "        helper.display_image_predictions(random_test_features, random_test_labels, random_test_predictions)\n",
    "\n",
    "\n",
    "test_model()"
   ]
  },
  {
   "cell_type": "markdown",
   "metadata": {},
   "source": [
    "## Why 50-80% Accuracy?\n",
    "You might be wondering why you can't get an accuracy any higher. First things first, 50% isn't bad for a simple CNN.  Pure guessing would get you 10% accuracy. However, you might notice people are getting scores [well above 80%](http://rodrigob.github.io/are_we_there_yet/build/classification_datasets_results.html#43494641522d3130).  That's because we haven't taught you all there is to know about neural networks. We still need to cover a few more techniques.\n",
    "## Submitting This Project\n",
    "When submitting this project, make sure to run all the cells before saving the notebook.  Save the notebook file as \"dlnd_image_classification.ipynb\" and save it as a HTML file under \"File\" -> \"Download as\".  Include the \"helper.py\" and \"problem_unittests.py\" files in your submission."
   ]
  }
 ],
 "metadata": {
  "kernelspec": {
   "display_name": "Python 3",
   "language": "python",
   "name": "python3"
  },
  "language_info": {
   "codemirror_mode": {
    "name": "ipython",
    "version": 3
   },
   "file_extension": ".py",
   "mimetype": "text/x-python",
   "name": "python",
   "nbconvert_exporter": "python",
   "pygments_lexer": "ipython3",
   "version": "3.5.3"
  }
 },
 "nbformat": 4,
 "nbformat_minor": 1
}
